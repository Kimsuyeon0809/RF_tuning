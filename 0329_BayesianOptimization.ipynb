{
  "cells": [
    {
      "cell_type": "markdown",
      "metadata": {
        "id": "0j8-p5rdjBqF"
      },
      "source": [
        "# 0. Data Load"
      ]
    },
    {
      "cell_type": "code",
      "execution_count": null,
      "metadata": {
        "colab": {
          "base_uri": "https://localhost:8080/"
        },
        "id": "WcHnjN8WABKM",
        "outputId": "a238dc48-0d70-4c82-aea4-752773cbd7f1"
      },
      "outputs": [
        {
          "output_type": "stream",
          "name": "stdout",
          "text": [
            "Mounted at /content/drive\n"
          ]
        }
      ],
      "source": [
        "from google.colab import drive\n",
        "drive.mount('/content/drive')"
      ]
    },
    {
      "cell_type": "code",
      "execution_count": null,
      "metadata": {
        "colab": {
          "base_uri": "https://localhost:8080/"
        },
        "id": "nd6Zxc9rAdHc",
        "outputId": "a59f19ce-7bf4-4ed6-df47-0999c28b0511"
      },
      "outputs": [
        {
          "output_type": "stream",
          "name": "stdout",
          "text": [
            "/content/drive/MyDrive/Dacon_RF_parameter_tuning\n"
          ]
        }
      ],
      "source": [
        "cd drive/MyDrive/Dacon_RF_parameter_tuning"
      ]
    },
    {
      "cell_type": "code",
      "execution_count": null,
      "metadata": {
        "colab": {
          "base_uri": "https://localhost:8080/"
        },
        "id": "bS5OYgkgAeUB",
        "outputId": "4cc39b86-4038-43d1-a19a-df3ddbe619e7"
      },
      "outputs": [
        {
          "output_type": "stream",
          "name": "stdout",
          "text": [
            " 0325_EDA_Gridsearch.ipynb         grid_test2.ipynb        submit0329_5.csv\n",
            " 0326_Generalization.ipynb         sample_submission.csv   submit.ipynb\n",
            " 0327_RandomSearch.ipynb           \u001b[0m\u001b[01;34msubmit\u001b[0m/                 test_grid.ipynb\n",
            " 0328_submit.ipynb                 submit0329_2.csv       'test_grid.ipynb의 사본'\n",
            " 0329_BayesianOptimization.ipynb   submit0329_3.csv        train.csv\n",
            " EDA.ipynb                         submit0329_4.csv\n"
          ]
        }
      ],
      "source": [
        "ls"
      ]
    },
    {
      "cell_type": "code",
      "execution_count": null,
      "metadata": {
        "id": "vLrCGpTa__1v"
      },
      "outputs": [],
      "source": [
        "# 대회 제공 시드로 고정\n",
        "import random\n",
        "random.seed(42)"
      ]
    },
    {
      "cell_type": "code",
      "execution_count": null,
      "metadata": {
        "id": "zfc9PuWQDEwp"
      },
      "outputs": [],
      "source": [
        "import pandas as pd\n",
        "import numpy as np\n",
        "from pandas import DataFrame"
      ]
    },
    {
      "cell_type": "code",
      "execution_count": null,
      "metadata": {
        "colab": {
          "base_uri": "https://localhost:8080/",
          "height": 226
        },
        "id": "yNvhWboSC9NX",
        "outputId": "1de19450-1dd9-4e40-b257-566fbfd6cfb4"
      },
      "outputs": [
        {
          "output_type": "execute_result",
          "data": {
            "text/plain": [
              "   person_id  Sex  past_login_total  past_1_month_login  past_1_week_login  \\\n",
              "0          0    0               3.0                 1.0                1.0   \n",
              "1          1    1             111.0                26.0                7.0   \n",
              "2          3    1              13.0                13.0               11.0   \n",
              "3          4    1              28.0                12.0                5.0   \n",
              "4          5    1               4.0                 4.0                4.0   \n",
              "\n",
              "   sub_size  email_type  phone_rat  apple_rat  login  \n",
              "0       0.0           0   0.000000   0.000000      1  \n",
              "1       2.0           0   0.072072   0.000000      1  \n",
              "2       7.0           0   0.076923   1.000000      1  \n",
              "3       0.0           0   0.071429   0.071429      1  \n",
              "4       0.0           2   0.000000   0.000000      1  "
            ],
            "text/html": [
              "\n",
              "  <div id=\"df-a0415d2a-210c-4b1c-b562-4c44f806ed76\" class=\"colab-df-container\">\n",
              "    <div>\n",
              "<style scoped>\n",
              "    .dataframe tbody tr th:only-of-type {\n",
              "        vertical-align: middle;\n",
              "    }\n",
              "\n",
              "    .dataframe tbody tr th {\n",
              "        vertical-align: top;\n",
              "    }\n",
              "\n",
              "    .dataframe thead th {\n",
              "        text-align: right;\n",
              "    }\n",
              "</style>\n",
              "<table border=\"1\" class=\"dataframe\">\n",
              "  <thead>\n",
              "    <tr style=\"text-align: right;\">\n",
              "      <th></th>\n",
              "      <th>person_id</th>\n",
              "      <th>Sex</th>\n",
              "      <th>past_login_total</th>\n",
              "      <th>past_1_month_login</th>\n",
              "      <th>past_1_week_login</th>\n",
              "      <th>sub_size</th>\n",
              "      <th>email_type</th>\n",
              "      <th>phone_rat</th>\n",
              "      <th>apple_rat</th>\n",
              "      <th>login</th>\n",
              "    </tr>\n",
              "  </thead>\n",
              "  <tbody>\n",
              "    <tr>\n",
              "      <th>0</th>\n",
              "      <td>0</td>\n",
              "      <td>0</td>\n",
              "      <td>3.0</td>\n",
              "      <td>1.0</td>\n",
              "      <td>1.0</td>\n",
              "      <td>0.0</td>\n",
              "      <td>0</td>\n",
              "      <td>0.000000</td>\n",
              "      <td>0.000000</td>\n",
              "      <td>1</td>\n",
              "    </tr>\n",
              "    <tr>\n",
              "      <th>1</th>\n",
              "      <td>1</td>\n",
              "      <td>1</td>\n",
              "      <td>111.0</td>\n",
              "      <td>26.0</td>\n",
              "      <td>7.0</td>\n",
              "      <td>2.0</td>\n",
              "      <td>0</td>\n",
              "      <td>0.072072</td>\n",
              "      <td>0.000000</td>\n",
              "      <td>1</td>\n",
              "    </tr>\n",
              "    <tr>\n",
              "      <th>2</th>\n",
              "      <td>3</td>\n",
              "      <td>1</td>\n",
              "      <td>13.0</td>\n",
              "      <td>13.0</td>\n",
              "      <td>11.0</td>\n",
              "      <td>7.0</td>\n",
              "      <td>0</td>\n",
              "      <td>0.076923</td>\n",
              "      <td>1.000000</td>\n",
              "      <td>1</td>\n",
              "    </tr>\n",
              "    <tr>\n",
              "      <th>3</th>\n",
              "      <td>4</td>\n",
              "      <td>1</td>\n",
              "      <td>28.0</td>\n",
              "      <td>12.0</td>\n",
              "      <td>5.0</td>\n",
              "      <td>0.0</td>\n",
              "      <td>0</td>\n",
              "      <td>0.071429</td>\n",
              "      <td>0.071429</td>\n",
              "      <td>1</td>\n",
              "    </tr>\n",
              "    <tr>\n",
              "      <th>4</th>\n",
              "      <td>5</td>\n",
              "      <td>1</td>\n",
              "      <td>4.0</td>\n",
              "      <td>4.0</td>\n",
              "      <td>4.0</td>\n",
              "      <td>0.0</td>\n",
              "      <td>2</td>\n",
              "      <td>0.000000</td>\n",
              "      <td>0.000000</td>\n",
              "      <td>1</td>\n",
              "    </tr>\n",
              "  </tbody>\n",
              "</table>\n",
              "</div>\n",
              "    <div class=\"colab-df-buttons\">\n",
              "\n",
              "  <div class=\"colab-df-container\">\n",
              "    <button class=\"colab-df-convert\" onclick=\"convertToInteractive('df-a0415d2a-210c-4b1c-b562-4c44f806ed76')\"\n",
              "            title=\"Convert this dataframe to an interactive table.\"\n",
              "            style=\"display:none;\">\n",
              "\n",
              "  <svg xmlns=\"http://www.w3.org/2000/svg\" height=\"24px\" viewBox=\"0 -960 960 960\">\n",
              "    <path d=\"M120-120v-720h720v720H120Zm60-500h600v-160H180v160Zm220 220h160v-160H400v160Zm0 220h160v-160H400v160ZM180-400h160v-160H180v160Zm440 0h160v-160H620v160ZM180-180h160v-160H180v160Zm440 0h160v-160H620v160Z\"/>\n",
              "  </svg>\n",
              "    </button>\n",
              "\n",
              "  <style>\n",
              "    .colab-df-container {\n",
              "      display:flex;\n",
              "      gap: 12px;\n",
              "    }\n",
              "\n",
              "    .colab-df-convert {\n",
              "      background-color: #E8F0FE;\n",
              "      border: none;\n",
              "      border-radius: 50%;\n",
              "      cursor: pointer;\n",
              "      display: none;\n",
              "      fill: #1967D2;\n",
              "      height: 32px;\n",
              "      padding: 0 0 0 0;\n",
              "      width: 32px;\n",
              "    }\n",
              "\n",
              "    .colab-df-convert:hover {\n",
              "      background-color: #E2EBFA;\n",
              "      box-shadow: 0px 1px 2px rgba(60, 64, 67, 0.3), 0px 1px 3px 1px rgba(60, 64, 67, 0.15);\n",
              "      fill: #174EA6;\n",
              "    }\n",
              "\n",
              "    .colab-df-buttons div {\n",
              "      margin-bottom: 4px;\n",
              "    }\n",
              "\n",
              "    [theme=dark] .colab-df-convert {\n",
              "      background-color: #3B4455;\n",
              "      fill: #D2E3FC;\n",
              "    }\n",
              "\n",
              "    [theme=dark] .colab-df-convert:hover {\n",
              "      background-color: #434B5C;\n",
              "      box-shadow: 0px 1px 3px 1px rgba(0, 0, 0, 0.15);\n",
              "      filter: drop-shadow(0px 1px 2px rgba(0, 0, 0, 0.3));\n",
              "      fill: #FFFFFF;\n",
              "    }\n",
              "  </style>\n",
              "\n",
              "    <script>\n",
              "      const buttonEl =\n",
              "        document.querySelector('#df-a0415d2a-210c-4b1c-b562-4c44f806ed76 button.colab-df-convert');\n",
              "      buttonEl.style.display =\n",
              "        google.colab.kernel.accessAllowed ? 'block' : 'none';\n",
              "\n",
              "      async function convertToInteractive(key) {\n",
              "        const element = document.querySelector('#df-a0415d2a-210c-4b1c-b562-4c44f806ed76');\n",
              "        const dataTable =\n",
              "          await google.colab.kernel.invokeFunction('convertToInteractive',\n",
              "                                                    [key], {});\n",
              "        if (!dataTable) return;\n",
              "\n",
              "        const docLinkHtml = 'Like what you see? Visit the ' +\n",
              "          '<a target=\"_blank\" href=https://colab.research.google.com/notebooks/data_table.ipynb>data table notebook</a>'\n",
              "          + ' to learn more about interactive tables.';\n",
              "        element.innerHTML = '';\n",
              "        dataTable['output_type'] = 'display_data';\n",
              "        await google.colab.output.renderOutput(dataTable, element);\n",
              "        const docLink = document.createElement('div');\n",
              "        docLink.innerHTML = docLinkHtml;\n",
              "        element.appendChild(docLink);\n",
              "      }\n",
              "    </script>\n",
              "  </div>\n",
              "\n",
              "\n",
              "<div id=\"df-55273b51-b46d-4e82-bebc-effaf2e96542\">\n",
              "  <button class=\"colab-df-quickchart\" onclick=\"quickchart('df-55273b51-b46d-4e82-bebc-effaf2e96542')\"\n",
              "            title=\"Suggest charts\"\n",
              "            style=\"display:none;\">\n",
              "\n",
              "<svg xmlns=\"http://www.w3.org/2000/svg\" height=\"24px\"viewBox=\"0 0 24 24\"\n",
              "     width=\"24px\">\n",
              "    <g>\n",
              "        <path d=\"M19 3H5c-1.1 0-2 .9-2 2v14c0 1.1.9 2 2 2h14c1.1 0 2-.9 2-2V5c0-1.1-.9-2-2-2zM9 17H7v-7h2v7zm4 0h-2V7h2v10zm4 0h-2v-4h2v4z\"/>\n",
              "    </g>\n",
              "</svg>\n",
              "  </button>\n",
              "\n",
              "<style>\n",
              "  .colab-df-quickchart {\n",
              "      --bg-color: #E8F0FE;\n",
              "      --fill-color: #1967D2;\n",
              "      --hover-bg-color: #E2EBFA;\n",
              "      --hover-fill-color: #174EA6;\n",
              "      --disabled-fill-color: #AAA;\n",
              "      --disabled-bg-color: #DDD;\n",
              "  }\n",
              "\n",
              "  [theme=dark] .colab-df-quickchart {\n",
              "      --bg-color: #3B4455;\n",
              "      --fill-color: #D2E3FC;\n",
              "      --hover-bg-color: #434B5C;\n",
              "      --hover-fill-color: #FFFFFF;\n",
              "      --disabled-bg-color: #3B4455;\n",
              "      --disabled-fill-color: #666;\n",
              "  }\n",
              "\n",
              "  .colab-df-quickchart {\n",
              "    background-color: var(--bg-color);\n",
              "    border: none;\n",
              "    border-radius: 50%;\n",
              "    cursor: pointer;\n",
              "    display: none;\n",
              "    fill: var(--fill-color);\n",
              "    height: 32px;\n",
              "    padding: 0;\n",
              "    width: 32px;\n",
              "  }\n",
              "\n",
              "  .colab-df-quickchart:hover {\n",
              "    background-color: var(--hover-bg-color);\n",
              "    box-shadow: 0 1px 2px rgba(60, 64, 67, 0.3), 0 1px 3px 1px rgba(60, 64, 67, 0.15);\n",
              "    fill: var(--button-hover-fill-color);\n",
              "  }\n",
              "\n",
              "  .colab-df-quickchart-complete:disabled,\n",
              "  .colab-df-quickchart-complete:disabled:hover {\n",
              "    background-color: var(--disabled-bg-color);\n",
              "    fill: var(--disabled-fill-color);\n",
              "    box-shadow: none;\n",
              "  }\n",
              "\n",
              "  .colab-df-spinner {\n",
              "    border: 2px solid var(--fill-color);\n",
              "    border-color: transparent;\n",
              "    border-bottom-color: var(--fill-color);\n",
              "    animation:\n",
              "      spin 1s steps(1) infinite;\n",
              "  }\n",
              "\n",
              "  @keyframes spin {\n",
              "    0% {\n",
              "      border-color: transparent;\n",
              "      border-bottom-color: var(--fill-color);\n",
              "      border-left-color: var(--fill-color);\n",
              "    }\n",
              "    20% {\n",
              "      border-color: transparent;\n",
              "      border-left-color: var(--fill-color);\n",
              "      border-top-color: var(--fill-color);\n",
              "    }\n",
              "    30% {\n",
              "      border-color: transparent;\n",
              "      border-left-color: var(--fill-color);\n",
              "      border-top-color: var(--fill-color);\n",
              "      border-right-color: var(--fill-color);\n",
              "    }\n",
              "    40% {\n",
              "      border-color: transparent;\n",
              "      border-right-color: var(--fill-color);\n",
              "      border-top-color: var(--fill-color);\n",
              "    }\n",
              "    60% {\n",
              "      border-color: transparent;\n",
              "      border-right-color: var(--fill-color);\n",
              "    }\n",
              "    80% {\n",
              "      border-color: transparent;\n",
              "      border-right-color: var(--fill-color);\n",
              "      border-bottom-color: var(--fill-color);\n",
              "    }\n",
              "    90% {\n",
              "      border-color: transparent;\n",
              "      border-bottom-color: var(--fill-color);\n",
              "    }\n",
              "  }\n",
              "</style>\n",
              "\n",
              "  <script>\n",
              "    async function quickchart(key) {\n",
              "      const quickchartButtonEl =\n",
              "        document.querySelector('#' + key + ' button');\n",
              "      quickchartButtonEl.disabled = true;  // To prevent multiple clicks.\n",
              "      quickchartButtonEl.classList.add('colab-df-spinner');\n",
              "      try {\n",
              "        const charts = await google.colab.kernel.invokeFunction(\n",
              "            'suggestCharts', [key], {});\n",
              "      } catch (error) {\n",
              "        console.error('Error during call to suggestCharts:', error);\n",
              "      }\n",
              "      quickchartButtonEl.classList.remove('colab-df-spinner');\n",
              "      quickchartButtonEl.classList.add('colab-df-quickchart-complete');\n",
              "    }\n",
              "    (() => {\n",
              "      let quickchartButtonEl =\n",
              "        document.querySelector('#df-55273b51-b46d-4e82-bebc-effaf2e96542 button');\n",
              "      quickchartButtonEl.style.display =\n",
              "        google.colab.kernel.accessAllowed ? 'block' : 'none';\n",
              "    })();\n",
              "  </script>\n",
              "</div>\n",
              "\n",
              "    </div>\n",
              "  </div>\n"
            ],
            "application/vnd.google.colaboratory.intrinsic+json": {
              "type": "dataframe",
              "variable_name": "train",
              "summary": "{\n  \"name\": \"train\",\n  \"rows\": 1309,\n  \"fields\": [\n    {\n      \"column\": \"person_id\",\n      \"properties\": {\n        \"dtype\": \"number\",\n        \"std\": 629,\n        \"min\": 0,\n        \"max\": 2182,\n        \"num_unique_values\": 1309,\n        \"samples\": [\n          1911,\n          1737,\n          1635\n        ],\n        \"semantic_type\": \"\",\n        \"description\": \"\"\n      }\n    },\n    {\n      \"column\": \"Sex\",\n      \"properties\": {\n        \"dtype\": \"number\",\n        \"std\": 0,\n        \"min\": 0,\n        \"max\": 1,\n        \"num_unique_values\": 2,\n        \"samples\": [\n          1,\n          0\n        ],\n        \"semantic_type\": \"\",\n        \"description\": \"\"\n      }\n    },\n    {\n      \"column\": \"past_login_total\",\n      \"properties\": {\n        \"dtype\": \"number\",\n        \"std\": 21.813773158619597,\n        \"min\": 0.0,\n        \"max\": 503.0,\n        \"num_unique_values\": 69,\n        \"samples\": [\n          45.0,\n          3.0\n        ],\n        \"semantic_type\": \"\",\n        \"description\": \"\"\n      }\n    },\n    {\n      \"column\": \"past_1_month_login\",\n      \"properties\": {\n        \"dtype\": \"number\",\n        \"std\": 3.3091684884533716,\n        \"min\": 0.0,\n        \"max\": 93.0,\n        \"num_unique_values\": 21,\n        \"samples\": [\n          1.0,\n          29.0\n        ],\n        \"semantic_type\": \"\",\n        \"description\": \"\"\n      }\n    },\n    {\n      \"column\": \"past_1_week_login\",\n      \"properties\": {\n        \"dtype\": \"number\",\n        \"std\": 1.2338565374239336,\n        \"min\": 0.0,\n        \"max\": 23.0,\n        \"num_unique_values\": 13,\n        \"samples\": [\n          23.0,\n          9.0\n        ],\n        \"semantic_type\": \"\",\n        \"description\": \"\"\n      }\n    },\n    {\n      \"column\": \"sub_size\",\n      \"properties\": {\n        \"dtype\": \"number\",\n        \"std\": 17.787903382781302,\n        \"min\": 0.0,\n        \"max\": 358.0,\n        \"num_unique_values\": 57,\n        \"samples\": [\n          0.0,\n          9.0\n        ],\n        \"semantic_type\": \"\",\n        \"description\": \"\"\n      }\n    },\n    {\n      \"column\": \"email_type\",\n      \"properties\": {\n        \"dtype\": \"number\",\n        \"std\": 0,\n        \"min\": 0,\n        \"max\": 4,\n        \"num_unique_values\": 5,\n        \"samples\": [\n          2,\n          3\n        ],\n        \"semantic_type\": \"\",\n        \"description\": \"\"\n      }\n    },\n    {\n      \"column\": \"phone_rat\",\n      \"properties\": {\n        \"dtype\": \"number\",\n        \"std\": 0.3077918649377146,\n        \"min\": 0.0,\n        \"max\": 1.0,\n        \"num_unique_values\": 85,\n        \"samples\": [\n          0.55,\n          0.0\n        ],\n        \"semantic_type\": \"\",\n        \"description\": \"\"\n      }\n    },\n    {\n      \"column\": \"apple_rat\",\n      \"properties\": {\n        \"dtype\": \"number\",\n        \"std\": 0.40482121610254,\n        \"min\": 0.0,\n        \"max\": 1.0,\n        \"num_unique_values\": 61,\n        \"samples\": [\n          0.0,\n          0.5\n        ],\n        \"semantic_type\": \"\",\n        \"description\": \"\"\n      }\n    },\n    {\n      \"column\": \"login\",\n      \"properties\": {\n        \"dtype\": \"number\",\n        \"std\": 0,\n        \"min\": 0,\n        \"max\": 1,\n        \"num_unique_values\": 2,\n        \"samples\": [\n          0,\n          1\n        ],\n        \"semantic_type\": \"\",\n        \"description\": \"\"\n      }\n    }\n  ]\n}"
            }
          },
          "metadata": {},
          "execution_count": 6
        }
      ],
      "source": [
        "train = pd.read_csv('train.csv')\n",
        "train.head()"
      ]
    },
    {
      "cell_type": "markdown",
      "metadata": {
        "id": "D6VAx9s-C1l6"
      },
      "source": [
        "# 1. Bayesian Optimization"
      ]
    },
    {
      "cell_type": "markdown",
      "metadata": {
        "id": "-6GYos2kE8Y7"
      },
      "source": [
        "참고 : https://www.kaggle.com/code/neerajmohan/randomforest-model-with-bayesian-optimization"
      ]
    },
    {
      "cell_type": "code",
      "source": [
        "!pip install bayesian-optimization"
      ],
      "metadata": {
        "colab": {
          "base_uri": "https://localhost:8080/"
        },
        "id": "AYPYekBp6XIZ",
        "outputId": "a97bdf70-f0a8-4fc9-ebb9-14e460b199ba"
      },
      "execution_count": null,
      "outputs": [
        {
          "output_type": "stream",
          "name": "stdout",
          "text": [
            "Collecting bayesian-optimization\n",
            "  Downloading bayesian_optimization-1.4.3-py3-none-any.whl (18 kB)\n",
            "Requirement already satisfied: numpy>=1.9.0 in /usr/local/lib/python3.10/dist-packages (from bayesian-optimization) (1.25.2)\n",
            "Requirement already satisfied: scipy>=1.0.0 in /usr/local/lib/python3.10/dist-packages (from bayesian-optimization) (1.11.4)\n",
            "Requirement already satisfied: scikit-learn>=0.18.0 in /usr/local/lib/python3.10/dist-packages (from bayesian-optimization) (1.2.2)\n",
            "Collecting colorama>=0.4.6 (from bayesian-optimization)\n",
            "  Downloading colorama-0.4.6-py2.py3-none-any.whl (25 kB)\n",
            "Requirement already satisfied: joblib>=1.1.1 in /usr/local/lib/python3.10/dist-packages (from scikit-learn>=0.18.0->bayesian-optimization) (1.3.2)\n",
            "Requirement already satisfied: threadpoolctl>=2.0.0 in /usr/local/lib/python3.10/dist-packages (from scikit-learn>=0.18.0->bayesian-optimization) (3.4.0)\n",
            "Installing collected packages: colorama, bayesian-optimization\n",
            "Successfully installed bayesian-optimization-1.4.3 colorama-0.4.6\n"
          ]
        }
      ]
    },
    {
      "cell_type": "code",
      "execution_count": null,
      "metadata": {
        "id": "qO3S-V1LEgGx"
      },
      "outputs": [],
      "source": [
        "import numpy as np\n",
        "import pandas as pd\n",
        "import matplotlib.pyplot as plt\n",
        "import seaborn as sns\n",
        "from sklearn.model_selection import train_test_split,cross_val_score,StratifiedKFold\n",
        "from sklearn.metrics import confusion_matrix,classification_report,precision_score, recall_score, f1_score, accuracy_score\n",
        "from sklearn.ensemble import RandomForestClassifier\n",
        "from bayes_opt import BayesianOptimization"
      ]
    },
    {
      "cell_type": "code",
      "execution_count": null,
      "metadata": {
        "id": "MXupAhOwC_d6"
      },
      "outputs": [],
      "source": [
        "from bayes_opt import BayesianOptimization"
      ]
    },
    {
      "cell_type": "markdown",
      "metadata": {
        "id": "BPme0bFeGhDd"
      },
      "source": [
        "data split"
      ]
    },
    {
      "cell_type": "code",
      "execution_count": null,
      "metadata": {
        "colab": {
          "base_uri": "https://localhost:8080/"
        },
        "id": "2l-1aKbkEJ1C",
        "outputId": "5cfa5dc0-94fa-4686-ce60-d1dbfdb38f62"
      },
      "outputs": [
        {
          "output_type": "execute_result",
          "data": {
            "text/plain": [
              "0       1\n",
              "1       1\n",
              "2       1\n",
              "3       1\n",
              "4       1\n",
              "       ..\n",
              "1304    0\n",
              "1305    0\n",
              "1306    0\n",
              "1307    0\n",
              "1308    0\n",
              "Name: login, Length: 1309, dtype: int64"
            ]
          },
          "metadata": {},
          "execution_count": 10
        }
      ],
      "source": [
        "X = train.drop(labels='login',axis=1)\n",
        "X\n",
        "y = train['login']\n",
        "y"
      ]
    },
    {
      "cell_type": "code",
      "execution_count": null,
      "metadata": {
        "id": "aXuWdkrADEj4"
      },
      "outputs": [],
      "source": [
        "X_train,X_test,y_train,y_test = train_test_split(X,y,test_size=0.3,stratify=y,random_state=42)"
      ]
    },
    {
      "cell_type": "markdown",
      "metadata": {
        "id": "EK2is801EmDY"
      },
      "source": [
        "model"
      ]
    },
    {
      "cell_type": "code",
      "execution_count": null,
      "metadata": {
        "id": "9KGqL2WDElAP"
      },
      "outputs": [],
      "source": [
        "rf = RandomForestClassifier()"
      ]
    },
    {
      "cell_type": "code",
      "execution_count": null,
      "metadata": {
        "colab": {
          "base_uri": "https://localhost:8080/",
          "height": 74
        },
        "id": "soVZGKk_EoPS",
        "outputId": "cc8af797-0bbb-49e2-e3a2-15f205d26466"
      },
      "outputs": [
        {
          "output_type": "execute_result",
          "data": {
            "text/plain": [
              "RandomForestClassifier()"
            ],
            "text/html": [
              "<style>#sk-container-id-1 {color: black;background-color: white;}#sk-container-id-1 pre{padding: 0;}#sk-container-id-1 div.sk-toggleable {background-color: white;}#sk-container-id-1 label.sk-toggleable__label {cursor: pointer;display: block;width: 100%;margin-bottom: 0;padding: 0.3em;box-sizing: border-box;text-align: center;}#sk-container-id-1 label.sk-toggleable__label-arrow:before {content: \"▸\";float: left;margin-right: 0.25em;color: #696969;}#sk-container-id-1 label.sk-toggleable__label-arrow:hover:before {color: black;}#sk-container-id-1 div.sk-estimator:hover label.sk-toggleable__label-arrow:before {color: black;}#sk-container-id-1 div.sk-toggleable__content {max-height: 0;max-width: 0;overflow: hidden;text-align: left;background-color: #f0f8ff;}#sk-container-id-1 div.sk-toggleable__content pre {margin: 0.2em;color: black;border-radius: 0.25em;background-color: #f0f8ff;}#sk-container-id-1 input.sk-toggleable__control:checked~div.sk-toggleable__content {max-height: 200px;max-width: 100%;overflow: auto;}#sk-container-id-1 input.sk-toggleable__control:checked~label.sk-toggleable__label-arrow:before {content: \"▾\";}#sk-container-id-1 div.sk-estimator input.sk-toggleable__control:checked~label.sk-toggleable__label {background-color: #d4ebff;}#sk-container-id-1 div.sk-label input.sk-toggleable__control:checked~label.sk-toggleable__label {background-color: #d4ebff;}#sk-container-id-1 input.sk-hidden--visually {border: 0;clip: rect(1px 1px 1px 1px);clip: rect(1px, 1px, 1px, 1px);height: 1px;margin: -1px;overflow: hidden;padding: 0;position: absolute;width: 1px;}#sk-container-id-1 div.sk-estimator {font-family: monospace;background-color: #f0f8ff;border: 1px dotted black;border-radius: 0.25em;box-sizing: border-box;margin-bottom: 0.5em;}#sk-container-id-1 div.sk-estimator:hover {background-color: #d4ebff;}#sk-container-id-1 div.sk-parallel-item::after {content: \"\";width: 100%;border-bottom: 1px solid gray;flex-grow: 1;}#sk-container-id-1 div.sk-label:hover label.sk-toggleable__label {background-color: #d4ebff;}#sk-container-id-1 div.sk-serial::before {content: \"\";position: absolute;border-left: 1px solid gray;box-sizing: border-box;top: 0;bottom: 0;left: 50%;z-index: 0;}#sk-container-id-1 div.sk-serial {display: flex;flex-direction: column;align-items: center;background-color: white;padding-right: 0.2em;padding-left: 0.2em;position: relative;}#sk-container-id-1 div.sk-item {position: relative;z-index: 1;}#sk-container-id-1 div.sk-parallel {display: flex;align-items: stretch;justify-content: center;background-color: white;position: relative;}#sk-container-id-1 div.sk-item::before, #sk-container-id-1 div.sk-parallel-item::before {content: \"\";position: absolute;border-left: 1px solid gray;box-sizing: border-box;top: 0;bottom: 0;left: 50%;z-index: -1;}#sk-container-id-1 div.sk-parallel-item {display: flex;flex-direction: column;z-index: 1;position: relative;background-color: white;}#sk-container-id-1 div.sk-parallel-item:first-child::after {align-self: flex-end;width: 50%;}#sk-container-id-1 div.sk-parallel-item:last-child::after {align-self: flex-start;width: 50%;}#sk-container-id-1 div.sk-parallel-item:only-child::after {width: 0;}#sk-container-id-1 div.sk-dashed-wrapped {border: 1px dashed gray;margin: 0 0.4em 0.5em 0.4em;box-sizing: border-box;padding-bottom: 0.4em;background-color: white;}#sk-container-id-1 div.sk-label label {font-family: monospace;font-weight: bold;display: inline-block;line-height: 1.2em;}#sk-container-id-1 div.sk-label-container {text-align: center;}#sk-container-id-1 div.sk-container {/* jupyter's `normalize.less` sets `[hidden] { display: none; }` but bootstrap.min.css set `[hidden] { display: none !important; }` so we also need the `!important` here to be able to override the default hidden behavior on the sphinx rendered scikit-learn.org. See: https://github.com/scikit-learn/scikit-learn/issues/21755 */display: inline-block !important;position: relative;}#sk-container-id-1 div.sk-text-repr-fallback {display: none;}</style><div id=\"sk-container-id-1\" class=\"sk-top-container\"><div class=\"sk-text-repr-fallback\"><pre>RandomForestClassifier()</pre><b>In a Jupyter environment, please rerun this cell to show the HTML representation or trust the notebook. <br />On GitHub, the HTML representation is unable to render, please try loading this page with nbviewer.org.</b></div><div class=\"sk-container\" hidden><div class=\"sk-item\"><div class=\"sk-estimator sk-toggleable\"><input class=\"sk-toggleable__control sk-hidden--visually\" id=\"sk-estimator-id-1\" type=\"checkbox\" checked><label for=\"sk-estimator-id-1\" class=\"sk-toggleable__label sk-toggleable__label-arrow\">RandomForestClassifier</label><div class=\"sk-toggleable__content\"><pre>RandomForestClassifier()</pre></div></div></div></div></div>"
            ]
          },
          "metadata": {},
          "execution_count": 13
        }
      ],
      "source": [
        "rf.fit(X_train,y_train)\n"
      ]
    },
    {
      "cell_type": "code",
      "execution_count": null,
      "metadata": {
        "id": "R_xHn1BcEp_Z"
      },
      "outputs": [],
      "source": [
        "preds = rf.predict(X_test)"
      ]
    },
    {
      "cell_type": "code",
      "execution_count": null,
      "metadata": {
        "colab": {
          "base_uri": "https://localhost:8080/"
        },
        "id": "X8_O09QwEq-K",
        "outputId": "1ab1abc7-2cbd-4ae3-d30c-5354a0f04f3b"
      },
      "outputs": [
        {
          "output_type": "stream",
          "name": "stdout",
          "text": [
            "              precision    recall  f1-score   support\n",
            "\n",
            "           0       0.97      0.92      0.95       369\n",
            "           1       0.34      0.62      0.44        24\n",
            "\n",
            "    accuracy                           0.90       393\n",
            "   macro avg       0.66      0.77      0.69       393\n",
            "weighted avg       0.94      0.90      0.92       393\n",
            "\n"
          ]
        }
      ],
      "source": [
        "print(classification_report(preds,y_test)) # class 1 에 대한 precision, recall, f1-score, support가 전체적으로 낮음 (데이터 편향)"
      ]
    },
    {
      "cell_type": "code",
      "execution_count": null,
      "metadata": {
        "colab": {
          "base_uri": "https://localhost:8080/"
        },
        "id": "mApd47QQE49G",
        "outputId": "0b9ef79b-7c25-48bf-9956-c1ebfbbce5f7"
      },
      "outputs": [
        {
          "output_type": "stream",
          "name": "stdout",
          "text": [
            "Precision:0.3409090909090909\n",
            "Recall:0.625\n",
            "F1 Score:0.4411764705882353\n"
          ]
        }
      ],
      "source": [
        "print(\"Precision:{}\".format(precision_score(preds,y_test)))\n",
        "print(\"Recall:{}\".format(recall_score(preds,y_test)))\n",
        "print(\"F1 Score:{}\".format((f1_score(preds,y_test))))"
      ]
    },
    {
      "cell_type": "code",
      "execution_count": null,
      "metadata": {
        "colab": {
          "base_uri": "https://localhost:8080/"
        },
        "id": "wN-b_XNPFBT6",
        "outputId": "9ff7e703-1ec7-460f-d8a3-5cb0ee9f0f81"
      },
      "outputs": [
        {
          "output_type": "execute_result",
          "data": {
            "text/plain": [
              "{'bootstrap': True,\n",
              " 'ccp_alpha': 0.0,\n",
              " 'class_weight': None,\n",
              " 'criterion': 'gini',\n",
              " 'max_depth': None,\n",
              " 'max_features': 'sqrt',\n",
              " 'max_leaf_nodes': None,\n",
              " 'max_samples': None,\n",
              " 'min_impurity_decrease': 0.0,\n",
              " 'min_samples_leaf': 1,\n",
              " 'min_samples_split': 2,\n",
              " 'min_weight_fraction_leaf': 0.0,\n",
              " 'n_estimators': 100,\n",
              " 'n_jobs': None,\n",
              " 'oob_score': False,\n",
              " 'random_state': None,\n",
              " 'verbose': 0,\n",
              " 'warm_start': False}"
            ]
          },
          "metadata": {},
          "execution_count": 17
        }
      ],
      "source": [
        "rf.get_params()"
      ]
    },
    {
      "cell_type": "code",
      "execution_count": null,
      "metadata": {
        "colab": {
          "base_uri": "https://localhost:8080/"
        },
        "id": "18mJXFUyJgyM",
        "outputId": "d92b2ddb-f4db-4ef6-f369-83db69a66488"
      },
      "outputs": [
        {
          "output_type": "stream",
          "name": "stdout",
          "text": [
            "Collecting scikit-optimize\n",
            "  Downloading scikit_optimize-0.10.1-py2.py3-none-any.whl (107 kB)\n",
            "\u001b[2K     \u001b[90m━━━━━━━━━━━━━━━━━━━━━━━━━━━━━━━━━━━━━━━━\u001b[0m \u001b[32m107.7/107.7 kB\u001b[0m \u001b[31m1.1 MB/s\u001b[0m eta \u001b[36m0:00:00\u001b[0m\n",
            "\u001b[?25hRequirement already satisfied: joblib>=0.11 in /usr/local/lib/python3.10/dist-packages (from scikit-optimize) (1.3.2)\n",
            "Collecting pyaml>=16.9 (from scikit-optimize)\n",
            "  Downloading pyaml-23.12.0-py3-none-any.whl (23 kB)\n",
            "Requirement already satisfied: numpy>=1.20.3 in /usr/local/lib/python3.10/dist-packages (from scikit-optimize) (1.25.2)\n",
            "Requirement already satisfied: scipy>=1.1.0 in /usr/local/lib/python3.10/dist-packages (from scikit-optimize) (1.11.4)\n",
            "Requirement already satisfied: scikit-learn>=1.0.0 in /usr/local/lib/python3.10/dist-packages (from scikit-optimize) (1.2.2)\n",
            "Requirement already satisfied: packaging>=21.3 in /usr/local/lib/python3.10/dist-packages (from scikit-optimize) (24.0)\n",
            "Requirement already satisfied: PyYAML in /usr/local/lib/python3.10/dist-packages (from pyaml>=16.9->scikit-optimize) (6.0.1)\n",
            "Requirement already satisfied: threadpoolctl>=2.0.0 in /usr/local/lib/python3.10/dist-packages (from scikit-learn>=1.0.0->scikit-optimize) (3.4.0)\n",
            "Installing collected packages: pyaml, scikit-optimize\n",
            "Successfully installed pyaml-23.12.0 scikit-optimize-0.10.1\n"
          ]
        }
      ],
      "source": [
        "# 필요한 패키지 설치\"\n",
        "!pip install scikit-optimize"
      ]
    },
    {
      "cell_type": "code",
      "execution_count": null,
      "metadata": {
        "id": "Q53GGBe8JkRY"
      },
      "outputs": [],
      "source": [
        "# 필요한 라이브러리 불러오기\n",
        "import pandas as pd\n",
        "from sklearn.model_selection import cross_val_score\n",
        "from sklearn.ensemble import RandomForestClassifier\n",
        "from skopt import BayesSearchCV\n",
        "from skopt.space import Real, Categorical, Integer\n"
      ]
    },
    {
      "cell_type": "code",
      "execution_count": null,
      "metadata": {
        "colab": {
          "base_uri": "https://localhost:8080/"
        },
        "id": "DKx87e2xJHoE",
        "outputId": "942f3f1b-1b8b-4177-ab9f-c5d76698d715"
      },
      "outputs": [
        {
          "output_type": "stream",
          "name": "stdout",
          "text": [
            "최적의 하이퍼파라미터: OrderedDict([('bootstrap', True), ('max_depth', 1), ('max_features', 'auto'), ('min_samples_leaf', 17), ('min_samples_split', 20), ('n_estimators', 10)])\n",
            "최적의 하이퍼파라미터를 가진 모델의 성능 (평균 교차 검증 정확도): 0.8701441899915181\n"
          ]
        },
        {
          "output_type": "stream",
          "name": "stderr",
          "text": [
            "/usr/local/lib/python3.10/dist-packages/sklearn/ensemble/_forest.py:424: FutureWarning: `max_features='auto'` has been deprecated in 1.1 and will be removed in 1.3. To keep the past behaviour, explicitly set `max_features='sqrt'` or remove this parameter as it is also the default value for RandomForestClassifiers and ExtraTreesClassifiers.\n",
            "  warn(\n"
          ]
        }
      ],
      "source": [
        "# try1 : 몇 파라미터에 대해서만 Bayesian Optimization test -> 결과 잘 나옴, 실행 시간 grid search와 random search에 비해 매우 빠름\n",
        "# 특성과 종속변수 분리\n",
        "X = train.drop('login', axis=1)\n",
        "y = train['login']\n",
        "\n",
        "# 랜덤 포레스트 모델 정의\n",
        "rf = RandomForestClassifier()\n",
        "\n",
        "# 탐색할 하이퍼파라미터 공간 정의\n",
        "param_space = {\n",
        "    'n_estimators': Integer(10, 200),  # 나무의 수\n",
        "    'max_depth': Integer(1, 100),       # 트리의 최대 깊이\n",
        "    'min_samples_split': Integer(2, 20),# 내부 노드를 분할하는데 필요한 최소 샘플 수\n",
        "    'min_samples_leaf': Integer(1, 20), # 리프 노드에 필요한 최소 샘플 수\n",
        "    'max_features': Categorical(['auto', 'sqrt', 'log2']), # 각 노드에서 분할에 사용할 특성의 최대 수\n",
        "    'bootstrap': Categorical([True, False]) # 데이터 중복 사용 여부\n",
        "}\n",
        "\n",
        "# Bayesian Optimization을 위한 검색 객체 정의\n",
        "opt = BayesSearchCV(\n",
        "    estimator=rf,\n",
        "    search_spaces=param_space,\n",
        "    n_iter=50, # 반복 횟수\n",
        "    cv=5,      # 교차 검증 폴드 수\n",
        "    n_jobs=-1, # 병렬 처리를 위한 CPU 코어 수 (-1은 모든 가능한 코어 사용)\n",
        "    verbose=0\n",
        ")\n",
        "\n",
        "# Bayesian Optimization 실행\n",
        "opt.fit(X, y)\n",
        "\n",
        "# 최적의 하이퍼파라미터 출력\n",
        "print(\"최적의 하이퍼파라미터:\", opt.best_params_)\n",
        "\n",
        "# 최적의 하이퍼파라미터를 가진 모델의 성능 출력\n",
        "best_model = opt.best_estimator_\n",
        "best_score = opt.best_score_\n",
        "print(\"최적의 하이퍼파라미터를 가진 모델의 성능 (평균 교차 검증 정확도):\", best_score)"
      ]
    },
    {
      "cell_type": "code",
      "execution_count": null,
      "metadata": {
        "colab": {
          "base_uri": "https://localhost:8080/"
        },
        "id": "ul3brrNOMpBV",
        "outputId": "526c454b-1dd9-464c-95b5-f6ea4d7770ef"
      },
      "outputs": [
        {
          "name": "stdout",
          "output_type": "stream",
          "text": [
            "최적의 하이퍼파라미터: OrderedDict([('bootstrap', False), ('criterion', 'entropy'), ('max_depth', 16), ('max_features', 'sqrt'), ('max_leaf_nodes', 84), ('min_impurity_decrease', 0.13407446029425837), ('min_samples_leaf', 4), ('min_samples_split', 15), ('min_weight_fraction_leaf', 0.31663831795626113), ('n_estimators', 30)])\n",
            "최적의 하이퍼파라미터를 가진 모델의 성능 (평균 교차 검증 정확도): 0.8884648006785412\n"
          ]
        }
      ],
      "source": [
        "# try2 :파인튜닝하고자하는 모든 하이퍼파라미터에 대해 수행, 성능 출력 -> 결과 잘 나옴\n",
        "# 특성과 종속변수 분리\n",
        "X = train.drop('login', axis=1)\n",
        "y = train['login']\n",
        "\n",
        "# 랜덤 포레스트 모델 정의\n",
        "rf = RandomForestClassifier()\n",
        "\n",
        "# 탐색할 하이퍼파라미터 공간 정의\n",
        "param_space = {\n",
        "    'n_estimators': Integer(10, 200),  # 나무의 수, 범위: 10 ~ 1000\n",
        "    'criterion' : Categorical(['gini', 'entropy']), # 옵션: 'gini', 'entropy'\n",
        "    'max_depth': Integer(1, 100),       # 트리의 최대 깊이,범위: None 또는 양의 정수 / 현재 - 1이상, 100 이하 정수 범위로 탐색\n",
        "    'min_samples_split': Integer(2, 20),# 내부 노드를 분할하는데 필요한 최소 샘플 수, 범위: 2 이상의 정수 또는 0과 1 사이의 실수\n",
        "    'min_samples_leaf': Integer(1, 20), # 리프 노드에 필요한 최소 샘플 수, 범위: 1 이상의 정수 또는 0과 0.5 사이의 실수\n",
        "    'min_weight_fraction_leaf' :Real(0.0, 0.5),  # 범위: 0.0에서 0.5 사이의 실수\n",
        "    'max_features': Categorical(['auto', 'sqrt', 'log2']), # 각 노드에서 분할에 사용할 특성의 최대 수, 옵션: 'auto', 'sqrt', 'log2', None 또는 양의 정수/실수\n",
        "    'max_leaf_nodes' : Integer(2, 100),  # 범위: None 또는 양의 정수\n",
        "    'min_impurity_decrease' : Real(0.0, 0.5),   # 범위: 0.0 이상의 실수\n",
        "    'bootstrap': Categorical([True, False]) # 데이터 중복 사용 여부, 옵션: True, False\n",
        "}\n",
        "\n",
        "# Bayesian Optimization을 위한 검색 객체 정의\n",
        "opt = BayesSearchCV(\n",
        "    estimator=rf,\n",
        "    search_spaces=param_space,\n",
        "    n_iter=50, # 반복 횟수\n",
        "    cv=5,      # 교차 검증 폴드 수\n",
        "    n_jobs=-1, # 병렬 처리를 위한 CPU 코어 수 (-1은 모든 가능한 코어 사용)\n",
        "    verbose=0\n",
        ")\n",
        "\n",
        "# Bayesian Optimization 실행\n",
        "opt.fit(X, y)\n",
        "\n",
        "# 최적의 하이퍼파라미터 출력\n",
        "print(\"최적의 하이퍼파라미터:\", opt.best_params_)\n",
        "\n",
        "# 최적의 하이퍼파라미터를 가진 모델의 성능 출력\n",
        "best_model = opt.best_estimator_\n",
        "best_score = opt.best_score_\n",
        "print(\"최적의 하이퍼파라미터를 가진 모델의 성능 (평균 교차 검증 정확도):\", best_score)"
      ]
    },
    {
      "cell_type": "code",
      "execution_count": null,
      "metadata": {
        "colab": {
          "base_uri": "https://localhost:8080/"
        },
        "id": "2geF4u-KKlKF",
        "outputId": "c32ccbf7-f71b-42ee-ea5d-32828e9b9668"
      },
      "outputs": [
        {
          "name": "stdout",
          "output_type": "stream",
          "text": [
            "최적의 하이퍼파라미터: OrderedDict([('bootstrap', True), ('criterion', 'gini'), ('max_depth', 15), ('max_features', None), ('max_leaf_nodes', 52), ('min_impurity_decrease', 0.39493616009169324), ('min_samples_leaf', 28), ('min_samples_split', 6), ('min_weight_fraction_leaf', 0.23438516015372562), ('n_estimators', 49)])\n",
            "최적의 하이퍼파라미터를 가진 모델의 성능 (평균 교차 검증 정확도): 0.8884648006785412\n"
          ]
        }
      ],
      "source": [
        "# try3 :탐색 범위 늘리기(대회에서 정한 모든 범위에 대하여) - 많은 범위임에도 gridsearch, random search에 비해 확연히 빠름 (10분 내 실행)\n",
        "# 특성과 종속변수 분리\n",
        "X = train.drop('login', axis=1)\n",
        "y = train['login']\n",
        "\n",
        "# 랜덤 포레스트 모델 정의\n",
        "rf = RandomForestClassifier()\n",
        "\n",
        "# 탐색할 하이퍼파라미터 공간 정의\n",
        "param_space = {\n",
        "    'n_estimators': Integer(10, 1000),  # 나무의 수, 범위: 10 ~ 1000\n",
        "    'criterion' : Categorical(['gini', 'entropy']), # 옵션: 'gini', 'entropy'\n",
        "    'max_depth': Integer(1, 100),       # 트리의 최대 깊이,범위: None 또는 양의 정수 / 현재 - 1이상, 100 이하 정수 범위로 탐색\n",
        "    'min_samples_split': Integer(2, 30),# 내부 노드를 분할하는데 필요한 최소 샘플 수, 범위: 2 이상의 정수 또는 0과 1 사이의 실수\n",
        "    'min_samples_leaf': Integer(1, 30), # 리프 노드에 필요한 최소 샘플 수, 범위: 1 이상의 정수 또는 0과 0.5 사이의 실수\n",
        "    'min_weight_fraction_leaf' :Real(0.0, 0.5),  # 범위: 0.0에서 0.5 사이의 실수\n",
        "    'max_features': Categorical(['auto', 'sqrt', 'log2', None]), # 각 노드에서 분할에 사용할 특성의 최대 수, 옵션: 'auto', 'sqrt', 'log2', None 또는 양의 정수/실수\n",
        "    'max_leaf_nodes' : Integer(2, 120),  # 범위: None 또는 양의 정수\n",
        "    'min_impurity_decrease' : Real(0.0, 0.5),   # 범위: 0.0 이상의 실수\n",
        "    'bootstrap': Categorical([True, False]) # 데이터 중복 사용 여부, 옵션: True, False\n",
        "}\n",
        "\n",
        "# Bayesian Optimization을 위한 검색 객체 정의\n",
        "opt = BayesSearchCV(\n",
        "    estimator=rf,\n",
        "    search_spaces=param_space,\n",
        "    n_iter=50, # 반복 횟수\n",
        "    cv=5,      # 교차 검증 폴드 수\n",
        "    n_jobs=-1, # 병렬 처리를 위한 CPU 코어 수 (-1은 모든 가능한 코어 사용)\n",
        "    verbose=0\n",
        ")\n",
        "\n",
        "# Bayesian Optimization 실행\n",
        "opt.fit(X, y)\n",
        "\n",
        "# 최적의 하이퍼파라미터 출력\n",
        "print(\"최적의 하이퍼파라미터:\", opt.best_params_)\n",
        "\n",
        "# 최적의 하이퍼파라미터를 가진 모델의 성능 출력\n",
        "best_model = opt.best_estimator_\n",
        "best_score = opt.best_score_\n",
        "print(\"최적의 하이퍼파라미터를 가진 모델의 성능 (평균 교차 검증 정확도):\", best_score)"
      ]
    },
    {
      "cell_type": "markdown",
      "source": [
        "# 2. 데이터의 편향 고려한 Bayesian Optimization\n",
        "- 시도1) balanced\n",
        "- 시도2) balanced + 언더샘플링 + 평가함수 f1-score로 변경\n",
        "- 시도3) balanced + f1-score"
      ],
      "metadata": {
        "id": "XhnS9QGD4UD-"
      }
    },
    {
      "cell_type": "code",
      "source": [
        "# 1. balanced로 편향 문제 해결\n",
        "# 위 결과의 성능이 너무 낮게 나와, 데이터의 편향 고려하는 베이지안 옵티마이제이션으로 변경\n",
        "# -> balanced 사용\n",
        "from sklearn.utils import class_weight\n",
        "\n",
        "# 특성과 종속변수 분리\n",
        "X = train.drop('login', axis=1)\n",
        "y = train['login']\n",
        "\n",
        "# 랜덤 포레스트 모델 정의\n",
        "rf = RandomForestClassifier()\n",
        "\n",
        "# 탐색할 하이퍼파라미터 공간 정의\n",
        "param_space = {\n",
        "    'n_estimators': Integer(10, 1000),  # 나무의 수, 범위: 10 ~ 1000\n",
        "    'criterion' : Categorical(['gini', 'entropy']), # 옵션: 'gini', 'entropy'\n",
        "    'max_depth': Integer(1, 100),       # 트리의 최대 깊이,범위: None 또는 양의 정수 / 현재 - 1이상, 100 이하 정수 범위로 탐색\n",
        "    'min_samples_split': Integer(2, 30),# 내부 노드를 분할하는데 필요한 최소 샘플 수, 범위: 2 이상의 정수 또는 0과 1 사이의 실수\n",
        "    'min_samples_leaf': Integer(1, 30), # 리프 노드에 필요한 최소 샘플 수, 범위: 1 이상의 정수 또는 0과 0.5 사이의 실수\n",
        "    'min_weight_fraction_leaf' :Real(0.0, 0.5),  # 범위: 0.0에서 0.5 사이의 실수\n",
        "    'max_features': Categorical(['auto', 'sqrt', 'log2', None]), # 각 노드에서 분할에 사용할 특성의 최대 수, 옵션: 'auto', 'sqrt', 'log2', None 또는 양의 정수/실수\n",
        "    'max_leaf_nodes' : Integer(2, 120),  # 범위: None 또는 양의 정수\n",
        "    'min_impurity_decrease' : Real(0.0, 0.5),   # 범위: 0.0 이상의 실수\n",
        "    'bootstrap': Categorical([True, False]) # 데이터 중복 사용 여부, 옵션: True, False\n",
        "}\n",
        "# 클래스 가중치 계산 - 데이터의 편향 고려 -> balanced\n",
        "class_weights = class_weight.compute_class_weight('balanced', classes=np.unique(y), y=y)\n",
        "\n",
        "# Bayesian Optimization을 위한 검색 객체 정의\n",
        "opt = BayesSearchCV(\n",
        "    estimator=RandomForestClassifier(class_weight='balanced'),\n",
        "    search_spaces=param_space,\n",
        "    n_iter=50, # 반복 횟수\n",
        "    cv=5,      # 교차 검증 폴드 수\n",
        "    n_jobs=-1, # 병렬 처리를 위한 CPU 코어 수 (-1은 모든 가능한 코어 사용)\n",
        "    verbose=0\n",
        ")\n",
        "\n",
        "# Bayesian Optimization 실행\n",
        "opt.fit(X, y)\n",
        "\n",
        "# 최적의 하이퍼파라미터 출력\n",
        "print(\"최적의 하이퍼파라미터:\", opt.best_params_)\n",
        "\n",
        "# 최적의 하이퍼파라미터를 가진 모델의 성능 출력\n",
        "best_model = opt.best_estimator_\n",
        "best_score = opt.best_score_\n",
        "print(\"최적의 하이퍼파라미터를 가진 모델의 성능 (평균 교차 검증 정확도):\", best_score)"
      ],
      "metadata": {
        "colab": {
          "base_uri": "https://localhost:8080/"
        },
        "id": "XMOkD0Qm64pK",
        "outputId": "8932250c-c46b-42d7-e477-1a5de70af5b6"
      },
      "execution_count": null,
      "outputs": [
        {
          "output_type": "stream",
          "name": "stderr",
          "text": [
            "/usr/local/lib/python3.10/dist-packages/sklearn/ensemble/_forest.py:424: FutureWarning: `max_features='auto'` has been deprecated in 1.1 and will be removed in 1.3. To keep the past behaviour, explicitly set `max_features='sqrt'` or remove this parameter as it is also the default value for RandomForestClassifiers and ExtraTreesClassifiers.\n",
            "  warn(\n"
          ]
        },
        {
          "output_type": "stream",
          "name": "stdout",
          "text": [
            "최적의 하이퍼파라미터: OrderedDict([('bootstrap', True), ('criterion', 'gini'), ('max_depth', 84), ('max_features', 'auto'), ('max_leaf_nodes', 45), ('min_impurity_decrease', 0.34277318276007895), ('min_samples_leaf', 7), ('min_samples_split', 3), ('min_weight_fraction_leaf', 0.22047399965168385), ('n_estimators', 868)])\n",
            "최적의 하이퍼파라미터를 가진 모델의 성능 (평균 교차 검증 정확도): 0.8884648006785412\n"
          ]
        }
      ]
    },
    {
      "cell_type": "code",
      "source": [
        "# 3. balanced + 언더샘플링 + f1-score로 데이터 편향 해결\n",
        "from imblearn.under_sampling import RandomUnderSampler\n",
        "from sklearn.model_selection import train_test_split\n",
        "from sklearn.metrics import make_scorer, f1_score\n",
        "from skopt import BayesSearchCV\n",
        "from skopt.space import Real, Categorical, Integer\n",
        "from sklearn.ensemble import RandomForestClassifier\n",
        "from sklearn.utils import class_weight\n",
        "\n",
        "# 언더샘플링을 통해 클래스 불균형 해결\n",
        "rus = RandomUnderSampler(random_state=42)\n",
        "X_resampled, y_resampled = rus.fit_resample(X, y)\n",
        "\n",
        "# 훈련 및 테스트 세트 분리\n",
        "X_train, X_test, y_train, y_test = train_test_split(X_resampled, y_resampled, test_size=0.2, random_state=42)\n",
        "\n",
        "# 클래스 가중치 계산\n",
        "class_weights = class_weight.compute_class_weight('balanced', classes=np.unique(y_train), y=y_train)\n",
        "class_weights_dict = dict(enumerate(class_weights))\n",
        "\n",
        "# F1 점수를 사용하여 모델 평가\n",
        "scorer = make_scorer(f1_score)\n",
        "\n",
        "# 탐색할 하이퍼파라미터 공간 정의\n",
        "param_space = {\n",
        "    'n_estimators': Integer(10, 1000),                # 나무의 수\n",
        "    'criterion': Categorical(['gini', 'entropy']),    # 분할 기준\n",
        "    'max_depth': Integer(1, 100),                     # 트리의 최대 깊이\n",
        "    'min_samples_split': Integer(2, 30),              # 내부 노드를 분할하는데 필요한 최소 샘플 수\n",
        "    'min_samples_leaf': Integer(1, 30),               # 리프 노드에 필요한 최소 샘플 수\n",
        "    'min_weight_fraction_leaf': Real(0.0, 0.5),       # 가중치 고려 최소 리프 노드 크기\n",
        "    'max_features': Categorical(['auto', 'sqrt', 'log2', None]),  # 각 노드에서 분할에 사용할 특성의 최대 수\n",
        "    'max_leaf_nodes': Integer(2, 120),                # 리프 노드의 최대 수\n",
        "    'min_impurity_decrease': Real(0.0, 0.5),          # 분할을 위한 최소 불순도 감소\n",
        "    'bootstrap': Categorical([True, False])           # 데이터 중복 사용 여부\n",
        "}\n",
        "\n",
        "# Bayesian Optimization을 위한 검색 객체 정의\n",
        "opt = BayesSearchCV(\n",
        "    estimator=RandomForestClassifier(class_weight=class_weights_dict), # 클래스 가중치 적용\n",
        "    search_spaces=param_space,\n",
        "    scoring=scorer,\n",
        "    n_iter=50, # 반복 횟수\n",
        "    cv=5,      # 교차 검증 폴드 수\n",
        "    n_jobs=-1, # 병렬 처리를 위한 CPU 코어 수 (-1은 모든 가능한 코어 사용)\n",
        "    verbose=0\n",
        ")\n",
        "\n",
        "# Bayesian Optimization 실행\n",
        "opt.fit(X_train, y_train)\n",
        "\n",
        "# 최적의 하이퍼파라미터 출력\n",
        "print(\"최적의 하이퍼파라미터:\", opt.best_params_)\n",
        "\n",
        "# 최적의 하이퍼파라미터를 가진 모델의 성능 출력\n",
        "best_model = opt.best_estimator_\n",
        "best_score = opt.best_score_\n",
        "print(\"최적의 하이퍼파라미터를 가진 모델의 성능 (평균 F1 점수):\", best_score)\n",
        "\n",
        "# 테스트 데이터에서 모델 평가\n",
        "test_score = f1_score(y_test, best_model.predict(X_test))\n",
        "print(\"테스트 데이터에서 모델의 성능 (F1 점수):\", test_score)\n"
      ],
      "metadata": {
        "colab": {
          "base_uri": "https://localhost:8080/"
        },
        "id": "SIpCMfoT8vmb",
        "outputId": "92cea3fa-da78-49d1-dd11-d32fe15fefe7"
      },
      "execution_count": null,
      "outputs": [
        {
          "output_type": "stream",
          "name": "stderr",
          "text": [
            "/usr/local/lib/python3.10/dist-packages/sklearn/ensemble/_forest.py:424: FutureWarning: `max_features='auto'` has been deprecated in 1.1 and will be removed in 1.3. To keep the past behaviour, explicitly set `max_features='sqrt'` or remove this parameter as it is also the default value for RandomForestClassifiers and ExtraTreesClassifiers.\n",
            "  warn(\n"
          ]
        },
        {
          "output_type": "stream",
          "name": "stdout",
          "text": [
            "최적의 하이퍼파라미터: OrderedDict([('bootstrap', False), ('criterion', 'gini'), ('max_depth', 85), ('max_features', 'auto'), ('max_leaf_nodes', 105), ('min_impurity_decrease', 0.0), ('min_samples_leaf', 12), ('min_samples_split', 3), ('min_weight_fraction_leaf', 0.0), ('n_estimators', 817)])\n",
            "최적의 하이퍼파라미터를 가진 모델의 성능 (평균 F1 점수): 0.7669351817530334\n",
            "테스트 데이터에서 모델의 성능 (F1 점수): 0.7407407407407408\n"
          ]
        }
      ]
    },
    {
      "cell_type": "code",
      "source": [
        "# 3. balanced + f1-score로 데이터 편향 해결\n",
        "\n",
        "from sklearn.model_selection import train_test_split\n",
        "from sklearn.metrics import make_scorer, f1_score\n",
        "from skopt import BayesSearchCV\n",
        "from skopt.space import Real, Categorical, Integer\n",
        "from sklearn.ensemble import RandomForestClassifier\n",
        "from sklearn.utils import class_weight\n",
        "\n",
        "# 훈련 및 테스트 세트 분리\n",
        "X_train, X_test, y_train, y_test = train_test_split(X, y, test_size=0.2, random_state=42)\n",
        "\n",
        "# 클래스 가중치 계산\n",
        "class_weights = class_weight.compute_class_weight('balanced', classes=np.unique(y_train), y=y_train)\n",
        "class_weights_dict = dict(enumerate(class_weights))\n",
        "\n",
        "# F1 점수를 사용하여 모델 평가\n",
        "scorer = make_scorer(f1_score)\n",
        "\n",
        "# 탐색할 하이퍼파라미터 공간 정의\n",
        "param_space = {\n",
        "    'n_estimators': Integer(10, 1000),                # 나무의 수\n",
        "    'criterion': Categorical(['gini', 'entropy']),    # 분할 기준\n",
        "    'max_depth': Integer(1, 100),                     # 트리의 최대 깊이\n",
        "    'min_samples_split': Integer(2, 30),              # 내부 노드를 분할하는데 필요한 최소 샘플 수\n",
        "    'min_samples_leaf': Integer(1, 30),               # 리프 노드에 필요한 최소 샘플 수\n",
        "    'min_weight_fraction_leaf': Real(0.0, 0.5),       # 가중치 고려 최소 리프 노드 크기\n",
        "    'max_features': Categorical(['auto', 'sqrt', 'log2', None]),  # 각 노드에서 분할에 사용할 특성의 최대 수\n",
        "    'max_leaf_nodes': Integer(2, 120),                # 리프 노드의 최대 수\n",
        "    'min_impurity_decrease': Real(0.0, 0.5),          # 분할을 위한 최소 불순도 감소\n",
        "    'bootstrap': Categorical([True, False])           # 데이터 중복 사용 여부\n",
        "}\n",
        "\n",
        "# Bayesian Optimization을 위한 검색 객체 정의\n",
        "opt = BayesSearchCV(\n",
        "    estimator=RandomForestClassifier(class_weight=class_weights_dict), # 클래스 가중치 적용\n",
        "    search_spaces=param_space,\n",
        "    scoring=scorer,\n",
        "    n_iter=50, # 반복 횟수\n",
        "    cv=5,      # 교차 검증 폴드 수\n",
        "    n_jobs=-1, # 병렬 처리를 위한 CPU 코어 수 (-1은 모든 가능한 코어 사용)\n",
        "    verbose=0\n",
        ")\n",
        "\n",
        "# Bayesian Optimization 실행\n",
        "opt.fit(X_train, y_train)\n",
        "\n",
        "# 최적의 하이퍼파라미터 출력\n",
        "print(\"최적의 하이퍼파라미터:\", opt.best_params_)\n",
        "\n",
        "# 최적의 하이퍼파라미터를 가진 모델의 성능 출력\n",
        "best_model = opt.best_estimator_\n",
        "best_score = opt.best_score_\n",
        "print(\"최적의 하이퍼파라미터를 가진 모델의 성능 (평균 F1 점수):\", best_score)\n",
        "\n",
        "# 테스트 데이터에서 모델 평가\n",
        "test_score = f1_score(y_test, best_model.predict(X_test))\n",
        "print(\"테스트 데이터에서 모델의 성능 (F1 점수):\", test_score)\n"
      ],
      "metadata": {
        "colab": {
          "base_uri": "https://localhost:8080/"
        },
        "id": "WntNK6oe941y",
        "outputId": "8f218cb2-c011-4a43-a831-d23c112f4fa1"
      },
      "execution_count": null,
      "outputs": [
        {
          "output_type": "stream",
          "name": "stderr",
          "text": [
            "/usr/local/lib/python3.10/dist-packages/sklearn/ensemble/_forest.py:424: FutureWarning: `max_features='auto'` has been deprecated in 1.1 and will be removed in 1.3. To keep the past behaviour, explicitly set `max_features='sqrt'` or remove this parameter as it is also the default value for RandomForestClassifiers and ExtraTreesClassifiers.\n",
            "  warn(\n"
          ]
        },
        {
          "output_type": "stream",
          "name": "stdout",
          "text": [
            "최적의 하이퍼파라미터: OrderedDict([('bootstrap', True), ('criterion', 'entropy'), ('max_depth', 93), ('max_features', 'auto'), ('max_leaf_nodes', 17), ('min_impurity_decrease', 0.0), ('min_samples_leaf', 30), ('min_samples_split', 23), ('min_weight_fraction_leaf', 0.2929723323941858), ('n_estimators', 520)])\n",
            "최적의 하이퍼파라미터를 가진 모델의 성능 (평균 F1 점수): 0.5034011331805449\n",
            "테스트 데이터에서 모델의 성능 (F1 점수): 0.4657534246575342\n"
          ]
        }
      ]
    },
    {
      "cell_type": "markdown",
      "metadata": {
        "id": "KE64CN77KXxq"
      },
      "source": [
        "# 3. 제출"
      ]
    },
    {
      "cell_type": "code",
      "execution_count": null,
      "metadata": {
        "id": "2yNaqXFGKYdM"
      },
      "outputs": [],
      "source": [
        "# 제출1. 편향 고려하지 않은 BayesianOptimization\n",
        "df = {'n_estimators':49,\n",
        "      'criterion' : 'gini',\n",
        "      'max_depth' : 15,\n",
        "      'min_samples_split' : 6,\n",
        "      'min_samples_leaf' : 28,\n",
        "      'min_weight_fraction_leaf' : 0.23438516015372562,\n",
        "      'max_features' : None,\n",
        "      'max_leaf_nodes' : 52,\n",
        "      'min_impurity_decrease' : 0.39493616009169324,\n",
        "      'bootstrap': True\n",
        "      }\n",
        "df = DataFrame(df, index=['a'])\n",
        "df\n",
        "df.to_csv(\"./submit0329_3.csv\", index=False)"
      ]
    },
    {
      "cell_type": "code",
      "execution_count": null,
      "metadata": {
        "id": "i-mCX4adOKHM"
      },
      "outputs": [],
      "source": [
        "#제출2. balanced\n",
        "df = {'n_estimators':868,\n",
        "      'criterion' : 'gini',\n",
        "      'max_depth' : 84,\n",
        "      'min_samples_split' : 3,\n",
        "      'min_samples_leaf' : 7,\n",
        "      'min_weight_fraction_leaf' : 0.22047399965168385,\n",
        "      'max_features' : 'auto',\n",
        "      'max_leaf_nodes' : 45,\n",
        "      'min_impurity_decrease' : 0.34277318276007895,\n",
        "      'bootstrap': True\n",
        "      }\n",
        "df = DataFrame(df, index=['a'])\n",
        "df\n",
        "df.to_csv(\"./submit0329_4.csv\", index=False)"
      ]
    },
    {
      "cell_type": "code",
      "source": [
        "#제출3. balanced + f1-score\n",
        "df = {'n_estimators':520,\n",
        "      'criterion' : 'entropy',\n",
        "      'max_depth' : 93,\n",
        "      'min_samples_split' : 23,\n",
        "      'min_samples_leaf' : 30,\n",
        "      'min_weight_fraction_leaf' : 0.2929723323941858,\n",
        "      'max_features' : 'auto',\n",
        "      'max_leaf_nodes' : 17,\n",
        "      'min_impurity_decrease' : 0.0,\n",
        "      'bootstrap': True\n",
        "      }\n",
        "df = DataFrame(df, index=['a'])\n",
        "df\n",
        "df.to_csv(\"./submit0329_5.csv\", index=False)"
      ],
      "metadata": {
        "id": "3fRUKXGU-fKC"
      },
      "execution_count": null,
      "outputs": []
    },
    {
      "cell_type": "code",
      "source": [
        "# 제출4. balanced + 언더샘플링 + f1-score -> 최고점\n",
        "df = {'n_estimators':817,\n",
        "      'criterion' : 'gini',\n",
        "      'max_depth' : 85,\n",
        "      'min_samples_split' : 3,\n",
        "      'min_samples_leaf' : 12,\n",
        "      'min_weight_fraction_leaf' : 0.0,\n",
        "      'max_features' : 'auto',\n",
        "      'max_leaf_nodes' : 105,\n",
        "      'min_impurity_decrease' : 0.0,\n",
        "      'bootstrap': False\n",
        "      }\n",
        "df = DataFrame(df, index=['a'])\n",
        "df\n",
        "df.to_csv(\"./submit0329_6.csv\", index=False)"
      ],
      "metadata": {
        "id": "zFGbsn1L_x5X"
      },
      "execution_count": null,
      "outputs": []
    },
    {
      "cell_type": "code",
      "source": [
        "# 제출5. 제출4에서 max_depth 5 감소\n",
        "df = {'n_estimators':817,\n",
        "      'criterion' : 'gini',\n",
        "      'max_depth' : 80,\n",
        "      'min_samples_split' : 3,\n",
        "      'min_samples_leaf' : 12,\n",
        "      'min_weight_fraction_leaf' : 0.0,\n",
        "      'max_features' : 'auto',\n",
        "      'max_leaf_nodes' : 105,\n",
        "      'min_impurity_decrease' : 0.0,\n",
        "      'bootstrap': False\n",
        "      }\n",
        "df = DataFrame(df, index=['a'])\n",
        "df\n",
        "df.to_csv(\"./submit0329_7.csv\", index=False)"
      ],
      "metadata": {
        "id": "VAnKiSkLp-1Q"
      },
      "execution_count": null,
      "outputs": []
    },
    {
      "cell_type": "markdown",
      "source": [
        "# 4. 제출 결과"
      ],
      "metadata": {
        "id": "MGbi1s60OA5T"
      }
    },
    {
      "cell_type": "markdown",
      "source": [
        "- 제출1) 편향 고려하지 않은 Bayesian Optimization\n",
        " - score : 0.5\n",
        " - 예상보다 너무 낮은 score로, 데이터의 편향된 특성을 반영해야겠다는 아이디어를 얻게 됨\n",
        "- 제출2) balanced\n",
        " - score : 0.5\n",
        " - 여전히 낮은 score가 나타나, 다른 방법으로 데이터 특성을 반영해보기로 함\n",
        "- 제출3) balanced + f1-score  \n",
        " - score : 0.6268987342\n",
        " - 성능이 향상되었지만, 여전히 이전 최고기록보다 매우 낮은 성능\n",
        "- 제출4) balanced + 언더샘플링 + f1-score\n",
        " - score : 0.8034810127\n",
        " - 최고점 기록\n",
        "- 제출5) 제출4에서 max_depth 5 감소시켜 제\n",
        " - score : 0.8034810127\n",
        " - 제출4와 동일한 성능\n"
      ],
      "metadata": {
        "id": "6etP8mH8OjEt"
      }
    }
  ],
  "metadata": {
    "colab": {
      "provenance": []
    },
    "kernelspec": {
      "display_name": "Python 3",
      "name": "python3"
    },
    "language_info": {
      "name": "python"
    }
  },
  "nbformat": 4,
  "nbformat_minor": 0
}